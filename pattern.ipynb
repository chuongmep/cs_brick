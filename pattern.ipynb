{
 "cells": [
  {
   "cell_type": "markdown",
   "metadata": {},
   "source": [
    "## Pattern Instance"
   ]
  },
  {
   "cell_type": "code",
   "execution_count": 5,
   "metadata": {},
   "outputs": [
    {
     "data": {
      "image/png": "[encoded data removed]",
      "text/plain": [
       "<Figure size 640x480 with 1 Axes>"
      ]
     },
     "metadata": {},
     "output_type": "display_data"
    },
    {
     "name": "stdout",
     "output_type": "stream",
     "text": [
      "Total bricks placed: 40\n"
     ]
    }
   ],
   "source": [
    "import matplotlib.pyplot as plt\n",
    "import matplotlib.patches as patches\n",
    "from shapely.geometry import Polygon, Point\n",
    "\n",
    "# Define your house shape and brick parameters\n",
    "house_shape = Polygon([(0, 0), (300, 0), (300, 100), (200, 100), (200, 200), (0, 200)])\n",
    "brick_width = 20  # mm\n",
    "brick_height = 20  # mm\n",
    "gap_x = 5\n",
    "gap_y = 5\n",
    "pattern = [[0, 1], [1, 0]]  # Pattern matrix\n",
    "\n",
    "def lay_bricks(house_shape, brick_width, brick_height, gap_x, gap_y, pattern):\n",
    "    fig, ax = plt.subplots()\n",
    "    x_min, y_min, x_max, y_max = house_shape.bounds\n",
    "    ax.set_xlim(x_min, x_max)\n",
    "    ax.set_ylim(y_min, y_max)\n",
    "    ax.set_aspect('equal')\n",
    "\n",
    "    x, y = house_shape.exterior.xy\n",
    "    ax.plot(x, y, color='yellow')\n",
    "\n",
    "    num_rows = int((y_max - y_min) // (brick_height + gap_y))\n",
    "    num_cols = int((x_max - x_min) // (brick_width + gap_x))\n",
    "\n",
    "    pattern_height = len(pattern)\n",
    "    pattern_width = len(pattern[0])\n",
    "\n",
    "    bricks = []\n",
    "    for i in range(num_rows + 1):\n",
    "        for j in range(num_cols + 1):\n",
    "            # Check pattern to see if a brick should be placed\n",
    "            if pattern[i % pattern_height][j % pattern_width] == 1:\n",
    "                brick_origin = Point(x_min + j * (brick_width + gap_x) + gap_x,\n",
    "                                     y_min + i * (brick_height + gap_y) + gap_y)\n",
    "                brick = Polygon([\n",
    "                    (brick_origin.x, brick_origin.y),\n",
    "                    (brick_origin.x + brick_width, brick_origin.y),\n",
    "                    (brick_origin.x + brick_width, brick_origin.y + brick_height),\n",
    "                    (brick_origin.x, brick_origin.y + brick_height)\n",
    "                ])\n",
    "                if house_shape.contains(brick):\n",
    "                    bricks.append(brick)\n",
    "\n",
    "    # Draw bricks\n",
    "    for brick in bricks:\n",
    "        ax.add_patch(patches.Polygon(xy=list(brick.exterior.coords), closed=True, fill=True, edgecolor='red', facecolor='red'))\n",
    "\n",
    "    plt.gca().invert_yaxis()\n",
    "    plt.show()\n",
    "    print(f'Total bricks placed: {len(bricks)}')\n",
    "\n",
    "# Example usage\n",
    "lay_bricks(house_shape, brick_width, brick_height, gap_x, gap_y, pattern) \n"
   ]
  },
  {
   "cell_type": "markdown",
   "metadata": {},
   "source": [
    "# Pattern & Percentages"
   ]
  },
  {
   "cell_type": "code",
   "execution_count": 4,
   "metadata": {},
   "outputs": [
    {
     "data": {
      "image/png": "[encoded data removed]",
      "text/plain": [
       "<Figure size 640x480 with 1 Axes>"
      ]
     },
     "metadata": {},
     "output_type": "display_data"
    },
    {
     "name": "stdout",
     "output_type": "stream",
     "text": [
      "Total bricks placed: 25\n"
     ]
    }
   ],
   "source": [
    "import matplotlib.pyplot as plt\n",
    "import matplotlib.patches as patches\n",
    "from shapely.geometry import Polygon, Point\n",
    "\n",
    "# Define your house shape and brick parameters\n",
    "house_shape = Polygon([(0, 0), (300, 0), (300, 100), (200, 100), (200, 200), (0, 200)])\n",
    "brick_width = 20  # mm\n",
    "brick_height = 20  # mm\n",
    "gap_x = 5\n",
    "gap_y = 5\n",
    "pattern = [[0, 1, 0, 1], [1, 0, 1, 0]]  # Pattern matrix\n",
    "\n",
    "def lay_bricks(house_shape, brick_width, brick_height, gap_x, gap_y, pattern, percentage):\n",
    "    fig, ax = plt.subplots()\n",
    "    x_min, y_min, x_max, y_max = house_shape.bounds\n",
    "    ax.set_xlim(x_min, x_max)\n",
    "    ax.set_ylim(y_min, y_max)\n",
    "    ax.set_aspect('equal')\n",
    "\n",
    "    x, y = house_shape.exterior.xy\n",
    "    ax.plot(x, y, color='yellow')\n",
    "\n",
    "    area_house = house_shape.area\n",
    "    brick_area = brick_width * brick_height\n",
    "    total_bricks_possible = area_house // brick_area\n",
    "    bricks_to_place = int(total_bricks_possible * (percentage / 100))\n",
    "\n",
    "    num_rows = int((y_max - y_min) // (brick_height + gap_y))\n",
    "    num_cols = int((x_max - x_min) // (brick_width + gap_x))\n",
    "\n",
    "    pattern_height = len(pattern)\n",
    "    pattern_width = len(pattern[0])\n",
    "\n",
    "    bricks = []\n",
    "    bricks_placed = 0\n",
    "\n",
    "    for i in range(num_rows + 1):\n",
    "        for j in range(num_cols + 1):\n",
    "            if bricks_placed >= bricks_to_place:\n",
    "                break\n",
    "            # Check pattern to see if a brick should be placed\n",
    "            if pattern[i % pattern_height][j % pattern_width] == 1:\n",
    "                brick_origin = Point(x_min + j * (brick_width + gap_x) + gap_x,\n",
    "                                     y_min + i * (brick_height + gap_y) + gap_y)\n",
    "                brick = Polygon([\n",
    "                    (brick_origin.x, brick_origin.y),\n",
    "                    (brick_origin.x + brick_width, brick_origin.y),\n",
    "                    (brick_origin.x + brick_width, brick_origin.y + brick_height),\n",
    "                    (brick_origin.x, brick_origin.y + brick_height)\n",
    "                ])\n",
    "                if house_shape.contains(brick):\n",
    "                    bricks.append(brick)\n",
    "                    bricks_placed += 1\n",
    "\n",
    "    # Draw bricks\n",
    "    for brick in bricks:\n",
    "        ax.add_patch(patches.Polygon(xy=list(brick.exterior.coords), closed=True, fill=True, edgecolor='red', facecolor='red'))\n",
    "\n",
    "    plt.gca().invert_yaxis()\n",
    "    plt.show()\n",
    "    print(f'Total bricks placed: {len(bricks)}')\n",
    "\n",
    "# Example usage\n",
    "lay_bricks(house_shape, brick_width, brick_height, gap_x, gap_y, pattern, 20)  # Adjust percentage as needed\n"
   ]
  }
 ],
 "metadata": {
  "kernelspec": {
   "display_name": "Python 3",
   "language": "python",
   "name": "python3"
  },
  "language_info": {
   "codemirror_mode": {
    "name": "ipython",
    "version": 3
   },
   "file_extension": ".py",
   "mimetype": "text/x-python",
   "name": "python",
   "nbconvert_exporter": "python",
   "pygments_lexer": "ipython3",
   "version": "3.11.1"
  }
 },
 "nbformat": 4,
 "nbformat_minor": 2
}
